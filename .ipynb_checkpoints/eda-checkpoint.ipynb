{
 "cells": [
  {
   "cell_type": "markdown",
   "id": "ba83f7d5",
   "metadata": {},
   "source": [
    "### EDA"
   ]
  },
  {
   "cell_type": "code",
   "execution_count": 2,
   "id": "719e1fb2",
   "metadata": {},
   "outputs": [
    {
     "name": "stdout",
     "output_type": "stream",
     "text": [
      "Requirement already satisfied: seaborn in /opt/conda/envs/rapids/lib/python3.8/site-packages (0.12.2)\n",
      "Requirement already satisfied: numpy!=1.24.0,>=1.17 in /opt/conda/envs/rapids/lib/python3.8/site-packages (from seaborn) (1.22.0)\n",
      "Requirement already satisfied: pandas>=0.25 in /opt/conda/envs/rapids/lib/python3.8/site-packages (from seaborn) (1.4.4)\n",
      "Requirement already satisfied: matplotlib!=3.6.1,>=3.1 in /opt/conda/envs/rapids/lib/python3.8/site-packages (from seaborn) (3.5.3)\n",
      "Requirement already satisfied: cycler>=0.10 in /opt/conda/envs/rapids/lib/python3.8/site-packages (from matplotlib!=3.6.1,>=3.1->seaborn) (0.11.0)\n",
      "Requirement already satisfied: fonttools>=4.22.0 in /opt/conda/envs/rapids/lib/python3.8/site-packages (from matplotlib!=3.6.1,>=3.1->seaborn) (4.37.1)\n",
      "Requirement already satisfied: kiwisolver>=1.0.1 in /opt/conda/envs/rapids/lib/python3.8/site-packages (from matplotlib!=3.6.1,>=3.1->seaborn) (1.4.4)\n",
      "Requirement already satisfied: packaging>=20.0 in /opt/conda/envs/rapids/lib/python3.8/site-packages (from matplotlib!=3.6.1,>=3.1->seaborn) (21.3)\n",
      "Requirement already satisfied: pillow>=6.2.0 in /opt/conda/envs/rapids/lib/python3.8/site-packages (from matplotlib!=3.6.1,>=3.1->seaborn) (9.2.0)\n",
      "Requirement already satisfied: pyparsing>=2.2.1 in /opt/conda/envs/rapids/lib/python3.8/site-packages (from matplotlib!=3.6.1,>=3.1->seaborn) (3.0.9)\n",
      "Requirement already satisfied: python-dateutil>=2.7 in /opt/conda/envs/rapids/lib/python3.8/site-packages (from matplotlib!=3.6.1,>=3.1->seaborn) (2.8.2)\n",
      "Requirement already satisfied: pytz>=2020.1 in /opt/conda/envs/rapids/lib/python3.8/site-packages (from pandas>=0.25->seaborn) (2022.2.1)\n",
      "Requirement already satisfied: six>=1.5 in /opt/conda/envs/rapids/lib/python3.8/site-packages (from python-dateutil>=2.7->matplotlib!=3.6.1,>=3.1->seaborn) (1.16.0)\n",
      "\u001b[33mWARNING: Running pip as the 'root' user can result in broken permissions and conflicting behaviour with the system package manager. It is recommended to use a virtual environment instead: https://pip.pypa.io/warnings/venv\u001b[0m\u001b[33m\n",
      "\u001b[0m"
     ]
    }
   ],
   "source": [
    "import pandas as pd\n",
    "import geopandas as gpd\n",
    "import ast,os,random\n",
    "pd.set_option('display.float_format','{:.1f}'.format)\n",
    "import warnings\n",
    "warnings.filterwarnings('ignore')\n",
    "import cudf, cupy as cp\n",
    "import numpy as np\n",
    "import time\n",
    "import math\n",
    "import pickle\n",
    "import pyarrow.parquet as pq\n",
    "import matplotlib.pyplot as plt\n",
    "!pip install seaborn\n",
    "import seaborn as sns\n",
    "\n",
    "\n",
    "table = pq.read_table('../input/185/total_population_dataset.parquet')"
   ]
  },
  {
   "cell_type": "markdown",
   "id": "5994f636",
   "metadata": {},
   "source": [
    "### データフレームの概要\n",
    "2020年の総人口と，2010年からの移住に関する情報が記されたデータ\n",
    "\n",
    "Net\n",
    "- 1: Inward Migration（内部移住）\n",
    "- 0: Stationary（定住）\n",
    "- -1: Outward Migration（外部移住）\n",
    "\n",
    "Race\n",
    "- 0: All\n",
    "- 1: White\n",
    "- 2: African American\n",
    "- 3: American Indian\n",
    "- 4: Asian alone\n",
    "- 5: Native Hawaiian\n",
    "- 6: Other Race alone\n",
    "- 7: Two or More\n",
    "\n",
    "\n",
    "`0: all`がわからない\n",
    "  `6: Other Race alone`や`7: Two or More`でも当てはまっていないということ？\n",
    "\n",
    "County \\\n",
    "Mappings for counties can be found in id2county.pkl file from root directory. \\\n",
    " county(群）のID\n",
    " \n",
    " easting/northing \\\n",
    " 緯度と経度"
   ]
  },
  {
   "cell_type": "code",
   "execution_count": 4,
   "id": "05e3c188",
   "metadata": {},
   "outputs": [
    {
     "data": {
      "text/html": [
       "<div>\n",
       "<style scoped>\n",
       "    .dataframe tbody tr th:only-of-type {\n",
       "        vertical-align: middle;\n",
       "    }\n",
       "\n",
       "    .dataframe tbody tr th {\n",
       "        vertical-align: top;\n",
       "    }\n",
       "\n",
       "    .dataframe thead th {\n",
       "        text-align: right;\n",
       "    }\n",
       "</style>\n",
       "<table border=\"1\" class=\"dataframe\">\n",
       "  <thead>\n",
       "    <tr style=\"text-align: right;\">\n",
       "      <th></th>\n",
       "      <th>easting</th>\n",
       "      <th>northing</th>\n",
       "      <th>race</th>\n",
       "      <th>net</th>\n",
       "      <th>county</th>\n",
       "    </tr>\n",
       "  </thead>\n",
       "  <tbody>\n",
       "    <tr>\n",
       "      <th>0</th>\n",
       "      <td>-9626792.0</td>\n",
       "      <td>3825189.8</td>\n",
       "      <td>1</td>\n",
       "      <td>0</td>\n",
       "      <td>0</td>\n",
       "    </tr>\n",
       "    <tr>\n",
       "      <th>1</th>\n",
       "      <td>-9626832.0</td>\n",
       "      <td>3825073.8</td>\n",
       "      <td>1</td>\n",
       "      <td>0</td>\n",
       "      <td>0</td>\n",
       "    </tr>\n",
       "    <tr>\n",
       "      <th>2</th>\n",
       "      <td>-9627101.0</td>\n",
       "      <td>3825153.5</td>\n",
       "      <td>1</td>\n",
       "      <td>0</td>\n",
       "      <td>0</td>\n",
       "    </tr>\n",
       "    <tr>\n",
       "      <th>3</th>\n",
       "      <td>-9627149.0</td>\n",
       "      <td>3825322.8</td>\n",
       "      <td>1</td>\n",
       "      <td>0</td>\n",
       "      <td>0</td>\n",
       "    </tr>\n",
       "    <tr>\n",
       "      <th>4</th>\n",
       "      <td>-9627159.0</td>\n",
       "      <td>3825334.8</td>\n",
       "      <td>1</td>\n",
       "      <td>0</td>\n",
       "      <td>0</td>\n",
       "    </tr>\n",
       "  </tbody>\n",
       "</table>\n",
       "</div>"
      ],
      "text/plain": [
       "     easting  northing  race  net  county\n",
       "0 -9626792.0 3825189.8     1    0       0\n",
       "1 -9626832.0 3825073.8     1    0       0\n",
       "2 -9627101.0 3825153.5     1    0       0\n",
       "3 -9627149.0 3825322.8     1    0       0\n",
       "4 -9627159.0 3825334.8     1    0       0"
      ]
     },
     "execution_count": 4,
     "metadata": {},
     "output_type": "execute_result"
    }
   ],
   "source": [
    "cdf = cudf.DataFrame.from_arrow(table)\n",
    "cdf.head()"
   ]
  },
  {
   "cell_type": "markdown",
   "id": "c3f06c29",
   "metadata": {},
   "source": [
    "cuXfilterの準備をする"
   ]
  },
  {
   "cell_type": "code",
   "execution_count": null,
   "id": "5690eb13",
   "metadata": {},
   "outputs": [],
   "source": [
    "import cudf\n",
    "import cuxfilter\n",
    "\n",
    "# cuXfilterのデータフレームを作成する\n",
    "cux_df = cuxfilter.DataFrame(cdf)"
   ]
  },
  {
   "cell_type": "markdown",
   "id": "071c485b",
   "metadata": {},
   "source": [
    "試しに緯度経度の散布図をプロット。アメリカの国土のような図が出てくるはずである。人が住んでいるところを示しているので，まばらなところもある"
   ]
  },
  {
   "cell_type": "code",
   "execution_count": null,
   "id": "58e04c44",
   "metadata": {},
   "outputs": [],
   "source": [
    "from cuxfilter.charts import scatter\n",
    "\n",
    "scatter_chart =scatter(x='easting', y='northing')\n",
    "\n",
    "d = cux_df.dashboard([scatter_chart])\n",
    "scatter_chart.view()"
   ]
  },
  {
   "cell_type": "markdown",
   "id": "93e942f7",
   "metadata": {},
   "source": [
    "人が住んでいるところを示しているので，まばらなところもある"
   ]
  },
  {
   "cell_type": "code",
   "execution_count": null,
   "id": "3cbd7f44",
   "metadata": {},
   "outputs": [],
   "source": [
    "bar_chart_race = cuxfilter.charts.bar('race', 'val', data_points=5, add_interaction=False)\n",
    "\n",
    "d = cux_df.dashboard([bar_chart_race])\n",
    "#view the individual bar chart part of the dashboard d\n",
    "#await d.preview()\n",
    "bar_chart_race.view()"
   ]
  },
  {
   "cell_type": "markdown",
   "id": "5bdde444",
   "metadata": {},
   "source": [
    "GPUメモリエラーが発生するため，`pandas`にして実行する"
   ]
  },
  {
   "cell_type": "markdown",
   "id": "75d77879",
   "metadata": {},
   "source": [
    "### panadasでデータ探索"
   ]
  },
  {
   "cell_type": "markdown",
   "id": "43e89565",
   "metadata": {},
   "source": [
    "cudfからpandasのデータフレームpdfへの変換"
   ]
  },
  {
   "cell_type": "code",
   "execution_count": 6,
   "id": "194fae70",
   "metadata": {},
   "outputs": [
    {
     "data": {
      "text/html": [
       "<div>\n",
       "<style scoped>\n",
       "    .dataframe tbody tr th:only-of-type {\n",
       "        vertical-align: middle;\n",
       "    }\n",
       "\n",
       "    .dataframe tbody tr th {\n",
       "        vertical-align: top;\n",
       "    }\n",
       "\n",
       "    .dataframe thead th {\n",
       "        text-align: right;\n",
       "    }\n",
       "</style>\n",
       "<table border=\"1\" class=\"dataframe\">\n",
       "  <thead>\n",
       "    <tr style=\"text-align: right;\">\n",
       "      <th></th>\n",
       "      <th>easting</th>\n",
       "      <th>northing</th>\n",
       "      <th>race</th>\n",
       "      <th>net</th>\n",
       "      <th>county</th>\n",
       "    </tr>\n",
       "  </thead>\n",
       "  <tbody>\n",
       "    <tr>\n",
       "      <th>0</th>\n",
       "      <td>-9626792.0</td>\n",
       "      <td>3825189.8</td>\n",
       "      <td>1</td>\n",
       "      <td>0</td>\n",
       "      <td>0</td>\n",
       "    </tr>\n",
       "    <tr>\n",
       "      <th>1</th>\n",
       "      <td>-9626832.0</td>\n",
       "      <td>3825073.8</td>\n",
       "      <td>1</td>\n",
       "      <td>0</td>\n",
       "      <td>0</td>\n",
       "    </tr>\n",
       "    <tr>\n",
       "      <th>2</th>\n",
       "      <td>-9627101.0</td>\n",
       "      <td>3825153.5</td>\n",
       "      <td>1</td>\n",
       "      <td>0</td>\n",
       "      <td>0</td>\n",
       "    </tr>\n",
       "    <tr>\n",
       "      <th>3</th>\n",
       "      <td>-9627149.0</td>\n",
       "      <td>3825322.8</td>\n",
       "      <td>1</td>\n",
       "      <td>0</td>\n",
       "      <td>0</td>\n",
       "    </tr>\n",
       "    <tr>\n",
       "      <th>4</th>\n",
       "      <td>-9627159.0</td>\n",
       "      <td>3825334.8</td>\n",
       "      <td>1</td>\n",
       "      <td>0</td>\n",
       "      <td>0</td>\n",
       "    </tr>\n",
       "  </tbody>\n",
       "</table>\n",
       "</div>"
      ],
      "text/plain": [
       "     easting  northing  race  net  county\n",
       "0 -9626792.0 3825189.8     1    0       0\n",
       "1 -9626832.0 3825073.8     1    0       0\n",
       "2 -9627101.0 3825153.5     1    0       0\n",
       "3 -9627149.0 3825322.8     1    0       0\n",
       "4 -9627159.0 3825334.8     1    0       0"
      ]
     },
     "execution_count": 6,
     "metadata": {},
     "output_type": "execute_result"
    }
   ],
   "source": [
    "# pandasデータフレームへ変換\n",
    "pdf = cdf.to_pandas()\n",
    "\n",
    "pdf.head()"
   ]
  },
  {
   "cell_type": "markdown",
   "id": "90cf2f80",
   "metadata": {},
   "source": [
    "それぞれのhistgram"
   ]
  },
  {
   "cell_type": "code",
   "execution_count": 7,
   "id": "8612930d",
   "metadata": {},
   "outputs": [
    {
     "data": {
      "text/plain": [
       "<AxesSubplot:ylabel='Frequency'>"
      ]
     },
     "execution_count": 7,
     "metadata": {},
     "output_type": "execute_result"
    },
    {
     "data": {
      "image/png": "[encoded data removed]",
      "text/plain": [
       "<Figure size 640x480 with 1 Axes>"
      ]
     },
     "metadata": {},
     "output_type": "display_data"
    }
   ],
   "source": [
    "# raceのhistgram\n",
    "import matplotlib.pyplot as plt\n",
    "\n",
    "pdf['race'].plot.hist()"
   ]
  },
  {
   "cell_type": "code",
   "execution_count": null,
   "id": "6c331864",
   "metadata": {},
   "outputs": [],
   "source": [
    "# netのhistgram\n",
    "pdf['net'].plot.hist()"
   ]
  },
  {
   "cell_type": "code",
   "execution_count": null,
   "id": "131fd089",
   "metadata": {},
   "outputs": [],
   "source": [
    "# countyのhistgram\n",
    "pdf['county'].plot.hist()"
   ]
  },
  {
   "cell_type": "code",
   "execution_count": null,
   "id": "327b468d",
   "metadata": {},
   "outputs": [],
   "source": [
    "# 散布図行列\n",
    "\n",
    "sns.pairplot(pdf, vars=['race', 'net', 'county'])\n",
    "plt.show()"
   ]
  },
  {
   "cell_type": "code",
   "execution_count": null,
   "id": "5c7b2d36",
   "metadata": {},
   "outputs": [],
   "source": []
  },
  {
   "cell_type": "code",
   "execution_count": null,
   "id": "545c659e",
   "metadata": {},
   "outputs": [],
   "source": []
  },
  {
   "cell_type": "code",
   "execution_count": null,
   "id": "008d2e2c",
   "metadata": {},
   "outputs": [],
   "source": []
  }
 ],
 "metadata": {
  "kernelspec": {
   "display_name": "Python 3 (ipykernel)",
   "language": "python",
   "name": "python3"
  },
  "language_info": {
   "codemirror_mode": {
    "name": "ipython",
    "version": 3
   },
   "file_extension": ".py",
   "mimetype": "text/x-python",
   "name": "python",
   "nbconvert_exporter": "python",
   "pygments_lexer": "ipython3",
   "version": "3.8.15"
  }
 },
 "nbformat": 4,
 "nbformat_minor": 5
}
