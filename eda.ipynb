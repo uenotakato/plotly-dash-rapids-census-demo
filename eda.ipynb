{
 "cells": [
  {
   "cell_type": "markdown",
   "id": "4fde3256",
   "metadata": {},
   "source": [
    "### EDA"
   ]
  },
  {
   "cell_type": "code",
   "execution_count": 2,
   "id": "cc8af132",
   "metadata": {},
   "outputs": [],
   "source": [
    "import pandas as pd\n",
    "import geopandas as gpd\n",
    "import ast,os,random\n",
    "pd.set_option('display.float_format','{:.1f}'.format)\n",
    "import warnings\n",
    "warnings.filterwarnings('ignore')\n",
    "import cudf, cupy as cp\n",
    "import numpy as np\n",
    "import time\n",
    "import math\n",
    "import pickle\n",
    "import pyarrow.parquet as pq\n",
    "\n",
    "table = pq.read_table('../input/185/total_population_dataset.parquet')\n",
    "cudf = cudf.DataFrame.from_arrow(table)"
   ]
  },
  {
   "cell_type": "markdown",
   "id": "d6dbe662",
   "metadata": {},
   "source": [
    "### データフレームの概要\n",
    "2020年の総人口と，2010年からの移住に関する情報が記されたデータ\n",
    "\n",
    "Net\n",
    "- 1: Inward Migration（内部移住）\n",
    "- 0: Stationary（定住）\n",
    "- -1: Outward Migration（外部移住）\n",
    "\n",
    "Race\n",
    "- 0: All\n",
    "- 1: White\n",
    "- 2: African American\n",
    "- 3: American Indian\n",
    "- 4: Asian alone\n",
    "- 5: Native Hawaiian\n",
    "- 6: Other Race alone\n",
    "- 7: Two or More\n",
    "\n",
    "\n",
    "`0: all`がわからない\n",
    "  `6: Other Race alone`や`7: Two or More`でも当てはまっていないということ？\n",
    "\n",
    "County \\\n",
    "Mappings for counties can be found in id2county.pkl file from root directory. \\\n",
    " county(群）のID\n",
    " \n",
    " easting/northing \\\n",
    " 緯度と経度"
   ]
  },
  {
   "cell_type": "code",
   "execution_count": 5,
   "id": "d3cf62cc",
   "metadata": {},
   "outputs": [
    {
     "data": {
      "text/html": [
       "<div>\n",
       "<style scoped>\n",
       "    .dataframe tbody tr th:only-of-type {\n",
       "        vertical-align: middle;\n",
       "    }\n",
       "\n",
       "    .dataframe tbody tr th {\n",
       "        vertical-align: top;\n",
       "    }\n",
       "\n",
       "    .dataframe thead th {\n",
       "        text-align: right;\n",
       "    }\n",
       "</style>\n",
       "<table border=\"1\" class=\"dataframe\">\n",
       "  <thead>\n",
       "    <tr style=\"text-align: right;\">\n",
       "      <th></th>\n",
       "      <th>easting</th>\n",
       "      <th>northing</th>\n",
       "      <th>race</th>\n",
       "      <th>net</th>\n",
       "      <th>county</th>\n",
       "    </tr>\n",
       "  </thead>\n",
       "  <tbody>\n",
       "    <tr>\n",
       "      <th>0</th>\n",
       "      <td>-9626792.0</td>\n",
       "      <td>3825189.8</td>\n",
       "      <td>1</td>\n",
       "      <td>0</td>\n",
       "      <td>0</td>\n",
       "    </tr>\n",
       "    <tr>\n",
       "      <th>1</th>\n",
       "      <td>-9626832.0</td>\n",
       "      <td>3825073.8</td>\n",
       "      <td>1</td>\n",
       "      <td>0</td>\n",
       "      <td>0</td>\n",
       "    </tr>\n",
       "    <tr>\n",
       "      <th>2</th>\n",
       "      <td>-9627101.0</td>\n",
       "      <td>3825153.5</td>\n",
       "      <td>1</td>\n",
       "      <td>0</td>\n",
       "      <td>0</td>\n",
       "    </tr>\n",
       "    <tr>\n",
       "      <th>3</th>\n",
       "      <td>-9627149.0</td>\n",
       "      <td>3825322.8</td>\n",
       "      <td>1</td>\n",
       "      <td>0</td>\n",
       "      <td>0</td>\n",
       "    </tr>\n",
       "    <tr>\n",
       "      <th>4</th>\n",
       "      <td>-9627159.0</td>\n",
       "      <td>3825334.8</td>\n",
       "      <td>1</td>\n",
       "      <td>0</td>\n",
       "      <td>0</td>\n",
       "    </tr>\n",
       "  </tbody>\n",
       "</table>\n",
       "</div>"
      ],
      "text/plain": [
       "     easting  northing  race  net  county\n",
       "0 -9626792.0 3825189.8     1    0       0\n",
       "1 -9626832.0 3825073.8     1    0       0\n",
       "2 -9627101.0 3825153.5     1    0       0\n",
       "3 -9627149.0 3825322.8     1    0       0\n",
       "4 -9627159.0 3825334.8     1    0       0"
      ]
     },
     "execution_count": 5,
     "metadata": {},
     "output_type": "execute_result"
    }
   ],
   "source": [
    "cudf.head()"
   ]
  },
  {
   "cell_type": "code",
   "execution_count": null,
   "id": "ac9152c4",
   "metadata": {},
   "outputs": [],
   "source": []
  }
 ],
 "metadata": {
  "kernelspec": {
   "display_name": "Python 3 (ipykernel)",
   "language": "python",
   "name": "python3"
  },
  "language_info": {
   "codemirror_mode": {
    "name": "ipython",
    "version": 3
   },
   "file_extension": ".py",
   "mimetype": "text/x-python",
   "name": "python",
   "nbconvert_exporter": "python",
   "pygments_lexer": "ipython3",
   "version": "3.8.13"
  }
 },
 "nbformat": 4,
 "nbformat_minor": 5
}
